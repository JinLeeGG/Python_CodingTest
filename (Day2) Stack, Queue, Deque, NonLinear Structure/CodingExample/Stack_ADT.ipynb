{
  "nbformat": 4,
  "nbformat_minor": 0,
  "metadata": {
    "colab": {
      "provenance": []
    },
    "kernelspec": {
      "name": "python3",
      "display_name": "Python 3"
    },
    "language_info": {
      "name": "python"
    }
  },
  "cells": [
    {
      "cell_type": "code",
      "execution_count": null,
      "metadata": {
        "id": "yf00nndvI_v1"
      },
      "outputs": [],
      "source": [
        "stack = [] # initialize stack\n",
        "maxSize = 10 # maximum size of stack is 10\n",
        "\n",
        "\n",
        "# function that checks if stack is full\n",
        "def isFull(Stack):\n",
        "\treturn len(stack) == maxSize   # returns True if length of Stack is maximum size, which means stack is full currently.\n",
        "\t\t\t\t # returns False if length of Stack is not a maximum size, which means stack is not full currently.\n",
        "\n",
        "\n",
        "# function that cheks if stack is empty\n",
        "def isEmpty(stack):\n",
        "\treturn len(stack) == 0\t#returns True if size of stack is 0, which is empty\n",
        "\t\t\t\t#returns False if size of stack is not 0 which is not empty\n",
        "\n",
        "\n",
        "# function that push new data in the stack\n",
        "# 리스트는 정적이 아니라 동적으로(크기를 정해놓지 않는다) 사용하기 때문에 사이즈를 비교할 필요가 없다\n",
        "def push(stack, item):\n",
        "\tstack.append(item)\n",
        "\tprint(\"데이터 추가완료\")\n",
        "\n",
        "\n",
        "# function that pops last item in the stack\n",
        "def pop(stack):\n",
        "\tif isEmpty(stack):\t\t\t#checks if the stack is empty. If stack is empty, return none\n",
        "\t\tprint(\"비어있습니다.\")\t# If stack is not empty. There is a at least one item in the stack\n",
        "\t\treturn None\t\t# Therefore pop the last item in the stack.\n",
        "\telse:\n",
        "\t\treturn stack.pop()\n"
      ]
    },
    {
      "cell_type": "code",
      "source": [
        "stack = [] # initialize stack\n",
        "maxSize = 10 # maximum size of stack is 10\n",
        "\n"
      ],
      "metadata": {
        "id": "7K_8X7FZ9XqV"
      },
      "execution_count": null,
      "outputs": []
    }
  ]
}