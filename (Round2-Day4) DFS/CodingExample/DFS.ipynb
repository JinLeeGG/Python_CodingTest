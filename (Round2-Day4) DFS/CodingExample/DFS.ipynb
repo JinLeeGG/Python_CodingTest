{
  "nbformat": 4,
  "nbformat_minor": 0,
  "metadata": {
    "colab": {
      "provenance": [],
      "authorship_tag": "ABX9TyMVJMHAmZfSrzQ1ojAuqU6w",
      "include_colab_link": true
    },
    "kernelspec": {
      "name": "python3",
      "display_name": "Python 3"
    },
    "language_info": {
      "name": "python"
    }
  },
  "cells": [
    {
      "cell_type": "markdown",
      "metadata": {
        "id": "view-in-github",
        "colab_type": "text"
      },
      "source": [
        "<a href=\"https://colab.research.google.com/github/JinLeeGG/Python_CodingTest/blob/main/(Round2-Day4)%20DFS/CodingExample/DFS.ipynb\" target=\"_parent\"><img src=\"https://colab.research.google.com/assets/colab-badge.svg\" alt=\"Open In Colab\"/></a>"
      ]
    },
    {
      "cell_type": "code",
      "execution_count": 4,
      "metadata": {
        "colab": {
          "base_uri": "https://localhost:8080/"
        },
        "id": "jpp3AkKbM-SK",
        "outputId": "d4fd48a7-dfde-426b-c830-f31210b2e00c"
      },
      "outputs": [
        {
          "output_type": "stream",
          "name": "stdout",
          "text": [
            "[False, False, False, False]\n"
          ]
        }
      ],
      "source": [
        "# First Attempt DFS\n",
        "def DFS(graph, start):\n",
        "  # 빈 스택 생성\n",
        "  stack = []\n",
        "  # 방문 처리 생성\n",
        "  visited = [False for _ in range(len(graph))]\n",
        "\n",
        "  for i in range(len(graph)):\n",
        "      # 탐색 시작 노드를 스택에 삽입\n",
        "      stack.append(graph[i])\n",
        "      # 방문 처리\n",
        "      if visited[i] == False:\n",
        "          visited[i] = True\n",
        "      # 방문 한 노드를 기준으로 방문하지 않은 인접 노드가 있으면 그 인접 노드를 스택에 삽입하고 방문 처리\n",
        "      elif visited[i - 1] == False:\n",
        "          stack.append(stack[i-1])\n",
        "          visited[i - 1] = True\n",
        "\n",
        "      elif visited[i + 1] == False:\n",
        "          stack.append(stack[i-1])\n",
        "          visited[i + 1] = True\n",
        "\n",
        "      else:\n",
        "          stack.pop() # 근접 노드가 True 일 경우 pop()\n",
        "\n"
      ]
    },
    {
      "cell_type": "code",
      "source": [
        "# 재귀함수 없이 풀기\n",
        "def dfs(nodes, start_node):\n",
        "    stack = [] # 스택 생성\n",
        "    visited = set()\n",
        "    route = []\n",
        "    stack.append(start_node)\n",
        "    visited.add(start_node)\n",
        "    route.append(start_node)\n",
        "    while True:\n",
        "        if stack:\n",
        "            current_node = stack[-1]\n",
        "        else:\n",
        "            return route\n",
        "        for node in sorted(nodes[current_node]):\n",
        "            if node not in visited:\n",
        "                stack.append(node)\n",
        "                visited.add(node)\n",
        "                route.append(node)\n",
        "                break\n",
        "        else:\n",
        "            stack.pop()\n",
        "\n",
        "nodes = [\n",
        "    [],\n",
        "    [2, 3, 8],\n",
        "    [1, 7],\n",
        "    [1, 4, 5],\n",
        "    [3, 5],\n",
        "    [3, 4],\n",
        "    [7],\n",
        "    [2, 6, 8],\n",
        "    [1, 7]\n",
        "]\n",
        "\n",
        "print(dfs(nodes, 1))"
      ],
      "metadata": {
        "colab": {
          "base_uri": "https://localhost:8080/"
        },
        "id": "zeZ4fE2NWmbn",
        "outputId": "3f87dc96-d19c-468e-ba83-f7c6f7633545"
      },
      "execution_count": 8,
      "outputs": [
        {
          "output_type": "stream",
          "name": "stdout",
          "text": [
            "[1, 2, 7, 6, 8, 3, 4, 5]\n"
          ]
        }
      ]
    },
    {
      "cell_type": "code",
      "source": [
        "# 재귀 함수를 이용해서 풀기\n",
        "visited = [False] * len(nodes)\n",
        "result = []\n",
        "\n",
        "def dfs(nodes, start_node, visited):\n",
        "    visited[start_node] = True\n",
        "    result.append(start_node)\n",
        "\n",
        "    for i in nodes[start_node]:\n",
        "        if not visited[i]:  # 방문을 안했다면\n",
        "            dfs(nodes, i, visited)\n",
        "\n",
        "    return result\n",
        "\n",
        "nodes = [\n",
        "    [],\n",
        "    [2, 3, 8],\n",
        "    [1, 7],\n",
        "    [1, 4, 5],\n",
        "    [3, 5],\n",
        "    [3, 4],\n",
        "    [7],\n",
        "    [2, 6, 8],\n",
        "    [1, 7]\n",
        "]\n",
        "\n",
        "dfs(nodes, 1, visited)"
      ],
      "metadata": {
        "colab": {
          "base_uri": "https://localhost:8080/"
        },
        "id": "_1BR5idjaWTh",
        "outputId": "a13721fd-998e-4857-bbc2-a0fb3f76ebc7"
      },
      "execution_count": 25,
      "outputs": [
        {
          "output_type": "execute_result",
          "data": {
            "text/plain": [
              "[1, 2, 7, 6, 8, 3, 4, 5]"
            ]
          },
          "metadata": {},
          "execution_count": 25
        }
      ]
    }
  ]
}