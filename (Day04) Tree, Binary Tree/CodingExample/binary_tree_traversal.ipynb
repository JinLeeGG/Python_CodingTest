{
  "nbformat": 4,
  "nbformat_minor": 0,
  "metadata": {
    "colab": {
      "provenance": []
    },
    "kernelspec": {
      "name": "python3",
      "display_name": "Python 3"
    },
    "language_info": {
      "name": "python"
    }
  },
  "cells": [
    {
      "cell_type": "code",
      "execution_count": null,
      "metadata": {
        "id": "GGPolnFX3rSr"
      },
      "outputs": [],
      "source": [
        "# 전위 순회 코드\n",
        "# 부모 >> 왼쪽 >> 오른쪽\n",
        "\n",
        "def preOrder(nodes, idx):                    # nodes 리스트와 idx 인덱스를 인풋값으로 설정\n",
        "  if idx < len(nodes):                       # 지금 보고 있는 인덱스가 리스트 범위 안에 있다면\n",
        "      ret = str(nodes[idx]) + \" \"            # 부모 노드로 이동 - 현재 노드 값을 문자열로 저장 ex) ret = \"1 \"\n",
        "      ret += preOrder(nodes, idx * 2 + 1)    # 왼쪽 자식 노드로 이동 (원래 2 * idx지만 0부터 시작함으로 +1)\n",
        "      ret += preOrder(nodes, idx * 2 + 2)    # 오른쪽 자식 노드로 이동 (원래 2 * idx + 1지만 0부터 시작함으로 +1)\n",
        "      return ret                             # 전위 순회 결과값 도출\n",
        "  else:\n",
        "      return \"\"                              # 인덱스가 범위를 넘으면 빈 문자열 반환\n",
        "\n"
      ]
    },
    {
      "cell_type": "code",
      "source": [],
      "metadata": {
        "id": "ZjI6LqeW5F6d"
      },
      "execution_count": null,
      "outputs": []
    },
    {
      "cell_type": "code",
      "source": [
        "# 중위 순회 코드\n",
        "# 왼쪽 >> 부모 >> 오른쪽\n",
        "\n",
        "def inOrder(nodes, idx):\n",
        "    if idx < len(nodes):\n",
        "      ret = inOrder(nodes, idx * 2 + 1)\n",
        "      ret += str(nodes[idx]) + \" \"\n",
        "      ret += inOrder(nodes, idx * 2 + 2)\n",
        "      return ret\n",
        "    else:\n",
        "      return \" \""
      ],
      "metadata": {
        "id": "zo0eJMDF5kh4"
      },
      "execution_count": null,
      "outputs": []
    },
    {
      "cell_type": "code",
      "source": [
        "# 후위 순회 코드\n",
        "# 왼쪽 >> 오른쪽 >> 부모\n",
        "\n",
        "def postOrder(nodes, idx):\n",
        "    if idx < len(nodes):\n",
        "       ret = inOrder(nodes, idx * 2 + 1)\n",
        "       ret += inOrder(nodes, idx * 2 + 2)\n",
        "       ret += str(nodes[idx]) + \" \"\n",
        "       return ret\n",
        "    else:\n",
        "       return \" \""
      ],
      "metadata": {
        "id": "KLayIsPnzjbD"
      },
      "execution_count": null,
      "outputs": []
    }
  ]
}