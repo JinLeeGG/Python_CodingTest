{
  "nbformat": 4,
  "nbformat_minor": 0,
  "metadata": {
    "colab": {
      "provenance": [],
      "authorship_tag": "ABX9TyNYqbj3I0qb0d3qbiSI3C4C",
      "include_colab_link": true
    },
    "kernelspec": {
      "name": "python3",
      "display_name": "Python 3"
    },
    "language_info": {
      "name": "python"
    }
  },
  "cells": [
    {
      "cell_type": "markdown",
      "metadata": {
        "id": "view-in-github",
        "colab_type": "text"
      },
      "source": [
        "<a href=\"https://colab.research.google.com/github/JinLeeGG/Python_CodingTest/blob/main/(Round2-Day12)%20Counting%20Sorting%20Algo%2C%20Problem%20Solving/Counting_Sort_Algorithm.ipynb\" target=\"_parent\"><img src=\"https://colab.research.google.com/assets/colab-badge.svg\" alt=\"Open In Colab\"/></a>"
      ]
    },
    {
      "cell_type": "markdown",
      "source": [
        "# Counting Sort Algorithm"
      ],
      "metadata": {
        "id": "0jV413kTdgmd"
      }
    },
    {
      "cell_type": "code",
      "execution_count": 2,
      "metadata": {
        "colab": {
          "base_uri": "https://localhost:8080/"
        },
        "id": "81tnnwxxcDq4",
        "outputId": "d61ff441-aa54-4fd8-a6a3-d32cc092632c"
      },
      "outputs": [
        {
          "output_type": "stream",
          "name": "stdout",
          "text": [
            "0 0 1 1 2 2 3 4 5 5 6 7 8 9 9 "
          ]
        }
      ],
      "source": [
        "array = [7, 5 ,9, 0, 3, 1, 6, 2, 9, 1, 4, 8, 0, 5, 2]\n",
        "\n",
        "count = [0]*(max(array)+1) # 모든 데이터 범위를 포함하는 리스트 선언\n",
        "\n",
        "for i in range(len(array)):\n",
        "    count[array[i]] += 1 # 각 데이터에 해당하는 인덱스 값 증가\n",
        "\n",
        "for i in range(len(count)): # 리스트에 기록된 정렬 정보 확인\n",
        "    for j in range(count[i]):\n",
        "        print(i, end=\" \")\n"
      ]
    },
    {
      "cell_type": "code",
      "source": [],
      "metadata": {
        "id": "jYEoIoWAdkA4"
      },
      "execution_count": null,
      "outputs": []
    }
  ]
}