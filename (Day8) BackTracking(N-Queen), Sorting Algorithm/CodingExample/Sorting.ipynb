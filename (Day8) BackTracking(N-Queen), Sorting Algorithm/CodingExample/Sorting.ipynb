{
  "nbformat": 4,
  "nbformat_minor": 0,
  "metadata": {
    "colab": {
      "provenance": []
    },
    "kernelspec": {
      "name": "python3",
      "display_name": "Python 3"
    },
    "language_info": {
      "name": "python"
    }
  },
  "cells": [
    {
      "cell_type": "markdown",
      "source": [
        "Problem 1)\n",
        "\n",
        "상식 문제:\n",
        "인자로 받은 문자열 받아서 알파벳 정렬하는 함수를 구현하는 코드를 작성하시오\n",
        "\n",
        "str => \"hello\"   -->     \"ehllo\"\n"
      ],
      "metadata": {
        "id": "jhUce1VVILbt"
      }
    },
    {
      "cell_type": "code",
      "source": [
        "def solution(s):\n",
        "    alpa_order = [\"a\", \"b\", \"c\", \"d\", \"e\", \"f\", \"g\", \"h\", \"i\", \"j\", \"k\", \"l\", \"m\", \"n\", \"o\", \"p\", \"q\", \"r\", \"s\", \"t\", \"u\", \"v\", \"w\", \"x\", \"y\", \"z\"]\n",
        "    alpha_counter = [0] * len(s)\n",
        "    print(alpha_counter)\n",
        "    s = list(s)\n",
        "\n",
        "    # s에 있는\n",
        "    for i in alpa_order:\n",
        "\n",
        "\n",
        "    print(s)\n",
        "\n",
        "solution(\"hello\")\n",
        "\n"
      ],
      "metadata": {
        "colab": {
          "base_uri": "https://localhost:8080/"
        },
        "id": "CRnXsuGOIn_f",
        "outputId": "4ec06806-2ab4-49a5-c36d-de69084dbbe1"
      },
      "execution_count": null,
      "outputs": [
        {
          "output_type": "stream",
          "name": "stdout",
          "text": [
            "[0, 0, 0, 0, 0]\n",
            "a\n",
            "b\n",
            "c\n",
            "d\n",
            "e\n",
            "f\n",
            "g\n",
            "h\n",
            "i\n",
            "j\n",
            "k\n",
            "l\n",
            "m\n",
            "n\n",
            "o\n",
            "p\n",
            "q\n",
            "r\n",
            "s\n",
            "t\n",
            "u\n",
            "v\n",
            "w\n",
            "x\n",
            "y\n",
            "z\n",
            "['h', 'e', 'l', 'l', 'o']\n"
          ]
        }
      ]
    },
    {
      "cell_type": "code",
      "source": [
        "def sort_str(str1):\n",
        "  li = []\n",
        "  result = \"\"\n",
        "  key = 0\n",
        "  for i in str1:\n",
        "      li.append(ord(i))\n",
        "  for j in range(len(li)):\n",
        "      for i in range(len(li)-1):\n",
        "          key = li[i]\n",
        "          if key > li[i + 1]:\n",
        "              temp = li[i]\n",
        "              li[i] = li[i + 1]\n",
        "              li[i + 1] = key\n",
        "  for i in li:\n",
        "      result += chr(i)\n",
        "\n",
        "  return result\n",
        "\n",
        "\n",
        "print(sort_str(\"hello\"))"
      ],
      "metadata": {
        "colab": {
          "base_uri": "https://localhost:8080/"
        },
        "id": "fwT-0xVnMij0",
        "outputId": "1e7c6574-d2e5-4e0d-dd0b-9ebb2f90142c"
      },
      "execution_count": null,
      "outputs": [
        {
          "output_type": "stream",
          "name": "stdout",
          "text": [
            "ehllo\n"
          ]
        }
      ]
    },
    {
      "cell_type": "code",
      "source": [
        "def solution(str):\n",
        "    counts = [0] * 26   #알파벳 개수만큼 배열\n",
        "\n",
        "    for i in str:\n",
        "        counts[ord(i) - ord(\"a\")] += 1 # ord함수는 ascii 코드 값으로 변환시켜준다.\n",
        "\n",
        "    sort_str = \"\"\n",
        "    for i in range(26):\n",
        "        sort_str += chr(i + ord(\"a\")) * counts[i]\n",
        "\n",
        "    return sort_str\n",
        "\n",
        "print(solution(\"hello\"))"
      ],
      "metadata": {
        "colab": {
          "base_uri": "https://localhost:8080/"
        },
        "id": "6jxK8s8iNPvR",
        "outputId": "1b025134-43d0-430d-cb07-8e4eaf2151ed"
      },
      "execution_count": null,
      "outputs": [
        {
          "output_type": "stream",
          "name": "stdout",
          "text": [
            "ehllo\n"
          ]
        }
      ]
    },
    {
      "cell_type": "markdown",
      "source": [
        "문자열 정렬 문제가 나오면 위에 코드처럼 코딩하는 것이 가장 효율적이다.\n",
        "\n",
        "\n",
        "\n",
        "**계수 정렬**\n",
        "\n",
        "문자열 정렬은 계수정렬이 가장 효율적이다!!!!"
      ],
      "metadata": {
        "id": "sBlDhNCKPvng"
      }
    }
  ]
}