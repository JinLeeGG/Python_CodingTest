{
  "nbformat": 4,
  "nbformat_minor": 0,
  "metadata": {
    "colab": {
      "provenance": [],
      "authorship_tag": "ABX9TyOsbZfWyy3Czb6LEY+iqLZB",
      "include_colab_link": true
    },
    "kernelspec": {
      "name": "python3",
      "display_name": "Python 3"
    },
    "language_info": {
      "name": "python"
    }
  },
  "cells": [
    {
      "cell_type": "markdown",
      "metadata": {
        "id": "view-in-github",
        "colab_type": "text"
      },
      "source": [
        "<a href=\"https://colab.research.google.com/github/JinLeeGG/Python_CodingTest/blob/main/(Round2-Day4)%20DFS/CodingExample/2d_array.ipynb\" target=\"_parent\"><img src=\"https://colab.research.google.com/assets/colab-badge.svg\" alt=\"Open In Colab\"/></a>"
      ]
    },
    {
      "cell_type": "code",
      "execution_count": null,
      "metadata": {
        "id": "oVM5_ziV0TZc",
        "colab": {
          "base_uri": "https://localhost:8080/"
        },
        "outputId": "61b022d4-640c-46cd-f311-a6b1335ebf9e"
      },
      "outputs": [
        {
          "output_type": "stream",
          "name": "stdout",
          "text": [
            "[[], [], []]\n",
            "[[(1, 7), (2, 5)], [], []]\n",
            "[[(1, 7), (2, 5)], [(0, 7)], [(0, 5)]]\n"
          ]
        }
      ],
      "source": [
        "graph = [[] for i in range(3)]\n",
        "print(graph)\n",
        "\n",
        "graph[0].append((1, 7))\n",
        "graph[0].append((2, 5)) # 0번노드에서 2로가는 간선, 5는 가중치\n",
        "\n",
        "print(graph)\n",
        "\n",
        "graph[1].append((0, 7))\n",
        "graph[2].append((0, 5))\n",
        "\n",
        "print(graph)"
      ]
    }
  ]
}