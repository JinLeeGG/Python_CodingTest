{
  "nbformat": 4,
  "nbformat_minor": 0,
  "metadata": {
    "colab": {
      "provenance": []
    },
    "kernelspec": {
      "name": "python3",
      "display_name": "Python 3"
    },
    "language_info": {
      "name": "python"
    }
  },
  "cells": [
    {
      "cell_type": "markdown",
      "source": [
        "## 문제) 정수 배열을 정렬해서 반환하는 solution 함수를 작성하시오\n",
        "arr = [1, -5, 2, 4, 3]\n",
        "\n",
        "출력 => [-5, 1, 2, 3, 4]\n"
      ],
      "metadata": {
        "id": "OwidXu8_9laW"
      }
    },
    {
      "cell_type": "code",
      "execution_count": 7,
      "metadata": {
        "colab": {
          "base_uri": "https://localhost:8080/"
        },
        "id": "oOQWRNYa7WZk",
        "outputId": "47b90896-9954-41b0-89eb-a418c424fff2"
      },
      "outputs": [
        {
          "output_type": "execute_result",
          "data": {
            "text/plain": [
              "[-5, 1, 2, 3, 4]"
            ]
          },
          "metadata": {},
          "execution_count": 7
        }
      ],
      "source": [
        "# My answer\n",
        "arr = [1, -5, 2, 4, 3]\n",
        "\n",
        "def solution(arr):\n",
        "  return sorted(arr)\n",
        "\n",
        "solution(arr)"
      ]
    },
    {
      "cell_type": "code",
      "source": [
        "def solution(arr):\n",
        "  arr.sort() # 정렬하는 메서드이다. 리스트의 원본 자체의 값을 바꾼다.\n",
        "  return arr\n",
        "\n",
        "def solution(arr):\n",
        "  sorted_list = list(sort(arr)) # 리스트 원본은 그대로 보전하고 결과값만 구현\n",
        "  return sorted_list\n"
      ],
      "metadata": {
        "id": "zqFbgPge81DM"
      },
      "execution_count": null,
      "outputs": []
    },
    {
      "cell_type": "markdown",
      "source": [
        "## 문제] 정수 배열을 하나 받는다. 그 중 배열의 중복값을 제거하고 배열 데이터를 내림차순으로 정렬해서 반환하는 함수 작성하시오\n",
        "\n",
        "입력\n",
        "[4, 2, 2, 1, 3, 4]\n",
        "\n",
        "결과값으로는\n",
        "[4, 3, 2, 1]"
      ],
      "metadata": {
        "id": "ITrPcgr49VQJ"
      }
    },
    {
      "cell_type": "code",
      "source": [
        "# My answer\n",
        "import numpy as np\n",
        "\n",
        "arr = [4, 2, 2, 1, 3, 4]\n",
        "\n",
        "def solution(arr):\n",
        "  return list(set(arr))\n",
        "  # reverse 하게 해주는 함수 추가\n",
        "\n",
        "solution(arr)"
      ],
      "metadata": {
        "colab": {
          "base_uri": "https://localhost:8080/"
        },
        "id": "CVJWpOrk-AEi",
        "outputId": "215d67ec-f270-4614-80f4-58c9ff5cbbaf"
      },
      "execution_count": null,
      "outputs": [
        {
          "output_type": "execute_result",
          "data": {
            "text/plain": [
              "[1, 2, 3, 4]"
            ]
          },
          "metadata": {},
          "execution_count": 30
        }
      ]
    },
    {
      "cell_type": "code",
      "source": [
        "import numpy as np\n",
        "\n",
        "arr = [4, 2, 2, 1, 3, 4]\n",
        "\n",
        "def solution(arr):\n",
        "  list1 = list(set(arr))\n",
        "  list1.sort(reverse = True)\n",
        "  return list1\n",
        "\n",
        "solution(arr)"
      ],
      "metadata": {
        "colab": {
          "base_uri": "https://localhost:8080/"
        },
        "id": "JBpjDOOE_0RD",
        "outputId": "1ba10ab0-c615-4774-8c6d-7211cd1ea0b7"
      },
      "execution_count": null,
      "outputs": [
        {
          "output_type": "execute_result",
          "data": {
            "text/plain": [
              "[4, 3, 2, 1]"
            ]
          },
          "metadata": {},
          "execution_count": 31
        }
      ]
    },
    {
      "cell_type": "markdown",
      "source": [
        "## 문제)\n",
        "정수 배열 num이 주어질때 리스트 num에서 서로 다른 인덱스에 있는 2개의 수를 뽑아 더해 만들 수 있는  모든 수를 배열에 오름차순으로 정렬하는 solution을 작성하시오.\n",
        "\n",
        "예를들어 [2, 1, 3, 4, 1] ==>\n",
        "\n",
        "* 합의 수가 같으면 중복 제거 한다.\n"
      ],
      "metadata": {
        "id": "WF5Dw_m8AWFf"
      }
    },
    {
      "cell_type": "code",
      "source": [
        "# My answer\n",
        "def solution(num):\n",
        "    ret = set()  # 중복을 제거하기 위해 set 사용\n",
        "    for i in range(len(num)):\n",
        "        for j in range(i + 1, len(num)):  # i+1부터 시작하여 같은 인덱스 사용 방지\n",
        "            ret.add(num[i] + num[j])     # 두 수의 합을 set에 추가\n",
        "    return sorted(ret)                   # 오름차순 정렬된 리스트로 반환\n",
        "\n",
        "# 테스트\n",
        "arr = [2, 1, 3, 4, 1]\n",
        "result = solution(arr)\n",
        "print(result)  # 출력: [2, 3, 4, 5, 6, 7]"
      ],
      "metadata": {
        "colab": {
          "base_uri": "https://localhost:8080/"
        },
        "id": "cR3bMF0kEZtr",
        "outputId": "4c01c1eb-abf4-46c0-b8c3-c77fb5180d77"
      },
      "execution_count": 5,
      "outputs": [
        {
          "output_type": "stream",
          "name": "stdout",
          "text": [
            "[2, 3, 4, 5, 6, 7]\n"
          ]
        }
      ]
    },
    {
      "cell_type": "markdown",
      "source": [
        "## 마지막 리스트 문제 )\n",
        "코딩 시간 30분 / 단계는 2단계(금융권)\n",
        "\n",
        "\n"
      ],
      "metadata": {
        "id": "4fqd4L5fcWw-"
      }
    },
    {
      "cell_type": "code",
      "source": [
        "# My answer\n",
        "number1 = [1,2,3,4,5,1,2,3,4,5] * 1000\n",
        "number2 = [2,1,2,3,2,4,2,5,2,1] * 1000\n",
        "number3 = [3,3,1,1,2,2,4,4,5,5] * 1000\n",
        "\n",
        "answers = [1,2,3,4,5] * 2000\n",
        "answers1 = [1,3,2,4,2] * 2000\n",
        "\n",
        "\n",
        "def solution(answers):\n",
        "    counts1 = 0\n",
        "    counts2 = 0\n",
        "    counts3 = 0\n",
        "    rank = []\n",
        "    for i in range(len(answers)):\n",
        "      if answers[i] == number1[i]:\n",
        "        counts1 +=1\n",
        "      elif answers[i] == number2[i]:\n",
        "        counts2 +=1\n",
        "      elif answers[i] == number3[i]:\n",
        "        counts3 +=1\n",
        "\n",
        "    rank.append(counts1)\n",
        "    rank.append(counts2)\n",
        "    rank.append(counts3)\n",
        "\n",
        "    a = sorted(rank)\n",
        "    a.sort(reverse=True)\n",
        "    print(a)\n",
        "\n",
        "    if (counts1) == len(answers):\n",
        "      print(\"수포자 1은 모든 문제를 맞혔습니다.\")\n",
        "    elif (counts1) == 0:\n",
        "      print(\"수포자 1은 모든 문제를 틀렸습니다.\")\n",
        "\n",
        "    if (counts2) == len(answers):\n",
        "      print(\"수포자 2은 모든 문제를 맞혔습니다.\")\n",
        "    elif (counts2) == 0:\n",
        "      print(\"수포자 2은 모든 문제를 틀렸습니다.\")\n",
        "\n",
        "    if (counts3) == len(answers):\n",
        "      print(\"수포자 3은 모든 문제를 맞혔습니다.\")\n",
        "    elif (counts3) == 0:\n",
        "      print(\"수포자 3은 모든 문제를 틀렸습니다.\")\n",
        "\n",
        "    if (rank[0] == counts1):\n",
        "      print(\"따라서 가장 문제를 많이 맞힌 사람은 수포자1 입니다.\")\n",
        "    elif (rank[0] == counts2):\n",
        "      print(\"따라서 가장 문제를 많이 맞힌 사람은 수포자2 입니다.\")\n",
        "    elif (rank[0] == counts3):\n",
        "      print(\"따라서 가장 문제를 많이 맞힌 사람은 수포자3 입니다.\")\n",
        "\n",
        "solution(answers1)"
      ],
      "metadata": {
        "colab": {
          "base_uri": "https://localhost:8080/"
        },
        "id": "kLyfbgFVcYV3",
        "outputId": "d8a7d497-dab6-4073-e3fb-877a70b3b4fe"
      },
      "execution_count": null,
      "outputs": [
        {
          "output_type": "stream",
          "name": "stdout",
          "text": [
            "[4000, 2000, 1000]\n",
            "따라서 가장 문제를 많이 맞힌 사람은 수포자1 입니다.\n"
          ]
        }
      ]
    }
  ]
}